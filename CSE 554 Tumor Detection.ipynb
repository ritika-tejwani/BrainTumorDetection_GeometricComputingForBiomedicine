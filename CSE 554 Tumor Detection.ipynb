{
 "cells": [
  {
   "cell_type": "code",
   "execution_count": 1,
   "id": "3e3dfbca",
   "metadata": {},
   "outputs": [
    {
     "name": "stderr",
     "output_type": "stream",
     "text": [
      "/opt/anaconda3/lib/python3.9/site-packages/scipy/__init__.py:155: UserWarning: A NumPy version >=1.18.5 and <1.25.0 is required for this version of SciPy (detected version 1.26.2\n",
      "  warnings.warn(f\"A NumPy version >={np_minversion} and <{np_maxversion}\"\n"
     ]
    }
   ],
   "source": [
    "import os\n",
    "import cv2\n",
    "import numpy as np\n",
    "import matplotlib.pyplot as plt\n",
    "#import matplotlib.image as mpimg\n",
    "import numpy as np\n",
    "import matplotlib.pyplot as plt\n",
    "from ipywidgets import interact, widgets\n",
    "from ipywidgets import interact, interactive, fixed, interact_manual\n",
    "import ipywidgets as widgets\n",
    "from scipy.ndimage import label\n",
    "from skimage import measure "
   ]
  },
  {
   "cell_type": "code",
   "execution_count": 2,
   "id": "795ac9cf",
   "metadata": {},
   "outputs": [],
   "source": [
    "def greyScale(img): \n",
    "    #grayscale img \n",
    "    getRGB = cv2.cvtColor(img, cv2.COLOR_BGR2RGB)\n",
    "    R, G, B = getRGB[:,:,0], getRGB[:,:,1],getRGB[:,:,2]\n",
    "    grey_img = 0.2989*R + 0.5870*G + 0.1140*B\n",
    "    #plt.imshow(grey_img, cmap='gray')\n",
    "    #plt.show()\n",
    "    return grey_img"
   ]
  },
  {
   "cell_type": "code",
   "execution_count": 3,
   "id": "0539ecf2",
   "metadata": {},
   "outputs": [],
   "source": [
    "def median_filter(img):\n",
    "    median = cv2.medianBlur(img, 5) \n",
    "    #plt.imshow(median)\n",
    "    #plt.show()\n",
    "    return median"
   ]
  },
  {
   "cell_type": "code",
   "execution_count": 4,
   "id": "b293d872",
   "metadata": {},
   "outputs": [],
   "source": [
    "def threshold(img, val):\n",
    "    new_img = img.copy()\n",
    "    new_img[new_img <= val] = 0\n",
    "    new_img[new_img > val]  = 255\n",
    "    return new_img"
   ]
  },
  {
   "cell_type": "code",
   "execution_count": 5,
   "id": "d61bba71",
   "metadata": {},
   "outputs": [],
   "source": [
    "def invert(img):\n",
    "    inverted_img = np.copy(img)\n",
    "    rows = img.shape[0]\n",
    "    cols = img.shape[1]\n",
    "    for i in range(rows):\n",
    "        for j in range(cols):\n",
    "            if img[i, j] == 0:\n",
    "                inverted_img[i, j] = 1\n",
    "            else:\n",
    "                inverted_img[i, j] = 0    \n",
    "    return inverted_img"
   ]
  },
  {
   "cell_type": "code",
   "execution_count": 6,
   "id": "61cd41c9",
   "metadata": {},
   "outputs": [],
   "source": [
    "def label_components(binary_img, conn):\n",
    "    labeled_img, _ = label(binary_img, structure=np.ones((3, 3)))\n",
    "    return labeled_img\n",
    "\n",
    "def number_components(img, conn):\n",
    "    comp_img = label_components(img, conn)\n",
    "    num_components = np.max(comp_img)\n",
    "    return num_components"
   ]
  },
  {
   "cell_type": "code",
   "execution_count": 7,
   "id": "9489af26",
   "metadata": {},
   "outputs": [],
   "source": [
    "def get_largest_components(img, k, conn):\n",
    "    new_img = np.zeros_like(img)\n",
    "    comp_img = label_components(img, conn)\n",
    "\n",
    "    temp = np.ravel(comp_img)\n",
    "    unique_labels, counts = np.unique(temp, return_counts=True)\n",
    "    modes = unique_labels[np.argsort(counts)][-(k + 1):][::-1]\n",
    "\n",
    "    for i in range(img.shape[0]):\n",
    "        for j in range(img.shape[1]):\n",
    "            if comp_img[i, j] in modes and comp_img[i, j] != 0:\n",
    "                new_img[i, j] = 1\n",
    "\n",
    "    return new_img"
   ]
  },
  {
   "cell_type": "code",
   "execution_count": 8,
   "id": "d04ca72f",
   "metadata": {},
   "outputs": [],
   "source": [
    "structSquare = [[-1, -1], [-1, 0], [-1, 1], [0, 1], [1, 1], [1, 0], [1, -1], [0, -1]]\n",
    "structCross = [[0, 1], [0, -1], [1, 0], [-1, 0]]\n",
    "structX = [[-1, -1], [-1, 1], [1, 1], [1, -1]]"
   ]
  },
  {
   "cell_type": "code",
   "execution_count": 9,
   "id": "9274c6cc",
   "metadata": {},
   "outputs": [],
   "source": [
    "def erode(img, struct, r):\n",
    "    new_img = np.copy(img)\n",
    "    orig_img = np.copy(new_img)\n",
    "    for _ in range(r):\n",
    "        orig_img = np.copy(new_img)\n",
    "        for i in range(orig_img.shape[0]):\n",
    "            for j in range(orig_img.shape[1]):\n",
    "                for t in range(len(struct)):\n",
    "                    if (0 <= i + struct[t][0] < orig_img.shape[0] and\n",
    "                        0 <= j + struct[t][1] < orig_img.shape[1]):\n",
    "                        if orig_img[i + struct[t][0], j + struct[t][1]] == 0:\n",
    "                            new_img[i, j] = 0\n",
    "    return new_img\n",
    "\n",
    "def dilate(img, struct, r):\n",
    "    new_img = np.copy(img)\n",
    "    orig_img = np.copy(new_img)\n",
    "    for _ in range(r):\n",
    "        orig_img = np.copy(new_img)\n",
    "        for i in range(orig_img.shape[0]):\n",
    "            for j in range(orig_img.shape[1]):\n",
    "                for t in range(len(struct)):\n",
    "                    if (0 <= i + struct[t][0] < orig_img.shape[0] and\n",
    "                        0 <= j + struct[t][1] < orig_img.shape[1]):\n",
    "                        if orig_img[i + struct[t][0], j + struct[t][1]] == 1:\n",
    "                            new_img[i, j] = 1\n",
    "    return new_img"
   ]
  },
  {
   "cell_type": "code",
   "execution_count": 10,
   "id": "bb9cdb10",
   "metadata": {},
   "outputs": [],
   "source": [
    "def open_img(img, struct, i):\n",
    "    opened_img = np.copy(img)\n",
    "    opened_img = erode(opened_img, struct, i)\n",
    "    opened_img = dilate(opened_img, struct, i)\n",
    "    return opened_img\n",
    "\n",
    "def close_img(img, struct, i):\n",
    "    closed_img = np.copy(img)\n",
    "    closed_img = dilate(closed_img, struct, i)\n",
    "    closed_img = erode(closed_img, struct, i)\n",
    "    return closed_img"
   ]
  },
  {
   "cell_type": "code",
   "execution_count": 11,
   "id": "c10df7c4",
   "metadata": {},
   "outputs": [],
   "source": [
    "def overlay_img(tumor, original_img): \n",
    "    overlayImg = original_img.copy()\n",
    "    for i in range(overlayImg.shape[0]): \n",
    "        for j in range(overlayImg.shape[1]):\n",
    "            if tumor[i][j] == 0: \n",
    "                overlayImg[i][j] = overlayImg[i][j] * 0.5\n",
    "            else: \n",
    "                overlayImg[i][j] = overlayImg[i][j]\n",
    "                overlayImg[i][j][1] = 1\n",
    "                overlayImg[i][j][2] = 1\n",
    "    fig, axs = plt.subplots(1,2,figsize=(10,8))\n",
    "    axs[0].imshow(original_img)\n",
    "    axs[1].imshow(overlayImg)\n",
    "    plt.show()\n",
    "    return overlayImg, original_img"
   ]
  },
  {
   "cell_type": "code",
   "execution_count": 12,
   "id": "f8a5e8d7",
   "metadata": {},
   "outputs": [],
   "source": [
    "def tumorDetected(img, thresh): \n",
    "    original_img = img \n",
    "    #plt.imshow(original_img)\n",
    "    #plt.show()\n",
    "    img = median_filter(img)\n",
    "    #plt.imshow(img)\n",
    "    #plt.show\n",
    "    grey_img = greyScale(img)\n",
    "    binary_img = threshold(grey_img, thresh)\n",
    "    \n",
    "    src = grey_img.astype(np.uint8)\n",
    "    th1 = cv2.adaptiveThreshold(src,230,cv2.ADAPTIVE_THRESH_MEAN_C,cv2.THRESH_BINARY,5,2)\n",
    "    adaptive_img = threshold(grey_img, th1)\n",
    "    \n",
    "    fig, axs = plt.subplots(1,3,figsize=(12,4))\n",
    "    fig.suptitle('Binarization')\n",
    "    axs[0].title.set_text('Original')\n",
    "    axs[1].title.set_text('Gray Scale')\n",
    "    axs[2].title.set_text('Binary: Adaptive Thresholding')\n",
    "    axs[0].imshow(img)\n",
    "    axs[1].imshow(grey_img, cmap='gray')\n",
    "    axs[2].imshow(adaptive_img, cmap='gray')\n",
    "    plt.show()\n",
    "    \n",
    "    \n",
    "    skull_t = 30\n",
    "    bin_temp = threshold(grey_img, skull_t)\n",
    "    while(number_components(bin_temp, 1)<=10): \n",
    "        skull_t = skull_t + 10\n",
    "        bin_temp = threshold(grey_img, skull_t)\n",
    "    #plt.imshow(bin_temp, cmap=\"gray\")\n",
    "    #plt.show()\n",
    "    skull_removal = get_largest_components(bin_temp, 1,1)\n",
    "    #plt.imshow(skull_removal, cmap=\"gray\")\n",
    "    #plt.show()\n",
    "    for row in range(grey_img.shape[0]): \n",
    "        for col in range(grey_img.shape[1]): \n",
    "            if skull_removal[row][col] == 0: \n",
    "                grey_img[row][col] = 0\n",
    "    binary_img = threshold(grey_img,thresh)\n",
    "    \n",
    "    #enhanced_result, morph_gradient = intensity_enhancement(img)\n",
    "    #enhanced = enhanced_result + morph_gradient\n",
    "    #plt.imshow(enhanced)\n",
    "    \n",
    "    largest = get_largest_components(binary_img, 5, 1)\n",
    "    inverted = invert(largest)\n",
    "    #plt.imshow(inverted, cmap=\"gray\")\n",
    "    #plt.show()\n",
    "    fillHoles = get_largest_components(inverted, 1, 1)\n",
    "    #plt.imshow(fillHoles, cmap=\"gray\")\n",
    "    #plt.show()\n",
    "    closed = close_img(fillHoles, structSquare, 1)\n",
    "    #plt.imshow(closed, cmap=\"gray\")\n",
    "    #plt.show()\n",
    "    invertBack = invert(closed)\n",
    "    #plt.imshow(invertBack, cmap=\"gray\")\n",
    "    #plt.show()\n",
    "    opened = open_img(invertBack, structSquare, 1)\n",
    "    #plt.imshow(opened, cmap='gray')\n",
    "    #plt.show()\n",
    "    labeled = label_components(opened, 0)\n",
    "    #plt.imshow(labeled, cmap=\"gray\")\n",
    "    #plt.show()\n",
    "    tumor = get_largest_components(labeled, 1, 0)\n",
    "    #plt.imshow(tumor,  cmap='gray')\n",
    "    #plt.show()\n",
    "    tumor_area = (sum(tumor[tumor == 1])/len(tumor))/8.045\n",
    "    if(tumor_area > 0.4): \n",
    "        print(\"Tumor Detected\")\n",
    "        print(\"Tumor Size:\", tumor_area, \"mm^2\")\n",
    "        overlay, original_img = overlay_img(tumor, original_img)\n",
    "    else: \n",
    "        print(\"No Tumor Detected\")"
   ]
  },
  {
   "cell_type": "code",
   "execution_count": 13,
   "id": "4fe6404d",
   "metadata": {},
   "outputs": [],
   "source": [
    "def find_threshold(grey, thresh):\n",
    "    binary_img = grey.copy()\n",
    "    binary_img[binary_img <= thresh] = 0\n",
    "    binary_img[binary_img > thresh]  = 255\n",
    "    plt.imshow(binary_img, cmap=\"gray\")"
   ]
  },
  {
   "cell_type": "code",
   "execution_count": 14,
   "id": "f6083e3d",
   "metadata": {},
   "outputs": [],
   "source": [
    "def runProgram(upload): \n",
    "    uploaded_file = list(upload.values())[0]\n",
    "    file_name = uploaded_file['metadata']['name']\n",
    "    file_path = \"./\"+file_name \n",
    "    with open(file_path, \"wb\") as fp:\n",
    "        fp.write(uploaded_file['content'])\n",
    "    image = cv2.imread(file_path)\n",
    "    #plt.imshow(image)\n",
    "    img = median_filter(image)\n",
    "    grey_img = greyScale(img)\n",
    "    t = interactive(find_threshold, grey=fixed(grey_img), thresh=widgets.FloatSlider(min=1, max=255.0, step=1))\n",
    "    display(t)\n",
    "    set_thresh = widgets.Button(description='Find Tumor',disabled=False)\n",
    "    def on_button2_clicked(b): \n",
    "        tumorDetected(image,t.kwargs['thresh'])\n",
    "    set_thresh.on_click(on_button2_clicked)\n",
    "    display(set_thresh)"
   ]
  },
  {
   "cell_type": "code",
   "execution_count": 15,
   "id": "33875dbf",
   "metadata": {},
   "outputs": [],
   "source": [
    "def on_button1_clicked(b):\n",
    "    runProgram(MRI_image.value)"
   ]
  },
  {
   "cell_type": "code",
   "execution_count": 19,
   "id": "c98c22be",
   "metadata": {},
   "outputs": [
    {
     "data": {
      "application/vnd.jupyter.widget-view+json": {
       "model_id": "32a2522a403748cbb86ea7d8f13fc555",
       "version_major": 2,
       "version_minor": 0
      },
      "text/plain": [
       "FileUpload(value={}, description='Upload')"
      ]
     },
     "metadata": {},
     "output_type": "display_data"
    },
    {
     "data": {
      "application/vnd.jupyter.widget-view+json": {
       "model_id": "746a9f0ace0f4537994b201866fe5e35",
       "version_major": 2,
       "version_minor": 0
      },
      "text/plain": [
       "Button(description='Set Threshold', style=ButtonStyle())"
      ]
     },
     "metadata": {},
     "output_type": "display_data"
    }
   ],
   "source": [
    "MRI_image = widgets.FileUpload(multiple=False)\n",
    "button = widgets.Button(description='Set Threshold',disabled=False)\n",
    "button.on_click(on_button1_clicked)\n",
    "display(MRI_image, button)"
   ]
  },
  {
   "cell_type": "code",
   "execution_count": null,
   "id": "94cc3731",
   "metadata": {},
   "outputs": [],
   "source": []
  }
 ],
 "metadata": {
  "kernelspec": {
   "display_name": "Python 3 (ipykernel)",
   "language": "python",
   "name": "python3"
  },
  "language_info": {
   "codemirror_mode": {
    "name": "ipython",
    "version": 3
   },
   "file_extension": ".py",
   "mimetype": "text/x-python",
   "name": "python",
   "nbconvert_exporter": "python",
   "pygments_lexer": "ipython3",
   "version": "3.9.13"
  }
 },
 "nbformat": 4,
 "nbformat_minor": 5
}
